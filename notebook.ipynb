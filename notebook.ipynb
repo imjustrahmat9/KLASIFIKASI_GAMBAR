{
  "nbformat": 4,
  "nbformat_minor": 0,
  "metadata": {
    "colab": {
      "provenance": [],
      "gpuType": "T4",
      "toc_visible": true
    },
    "kernelspec": {
      "name": "python3",
      "display_name": "Python 3"
    },
    "language_info": {
      "name": "python"
    },
    "accelerator": "GPU"
  },
  "cells": [
    {
      "cell_type": "markdown",
      "metadata": {
        "id": "H9wADwK78DCz"
      },
      "source": [
        "Face Mask Detection Images Dataset\n",
        "- **Nama:** RAHMAT HIDAYAT\n",
        "- **Email:** mc013d5y1559@student.devacademy.id\n",
        "- **ID Dicoding:** MC013D5Y1559"
      ]
    },
    {
      "cell_type": "markdown",
      "metadata": {
        "id": "H-z4QGlO8DC1"
      },
      "source": [
        "## Import Semua Packages/Library yang Digunakan"
      ]
    },
    {
      "cell_type": "code",
      "source": [
        "!pip install kaggle\n",
        "!pip install tensorflow\n",
        "!pip install tensorflowjs\n"
      ],
      "metadata": {
        "colab": {
          "base_uri": "https://localhost:8080/"
        },
        "id": "69alWZ9V-k7g",
        "outputId": "05064b59-5157-4e1f-ae5d-65c9e64d6d93",
        "collapsed": true
      },
      "execution_count": null,
      "outputs": [
        {
          "output_type": "stream",
          "name": "stdout",
          "text": [
            "Requirement already satisfied: kaggle in /usr/local/lib/python3.11/dist-packages (1.7.4.2)\n",
            "Requirement already satisfied: bleach in /usr/local/lib/python3.11/dist-packages (from kaggle) (6.2.0)\n",
            "Requirement already satisfied: certifi>=14.05.14 in /usr/local/lib/python3.11/dist-packages (from kaggle) (2025.1.31)\n",
            "Requirement already satisfied: charset-normalizer in /usr/local/lib/python3.11/dist-packages (from kaggle) (3.4.1)\n",
            "Requirement already satisfied: idna in /usr/local/lib/python3.11/dist-packages (from kaggle) (3.10)\n",
            "Requirement already satisfied: protobuf in /usr/local/lib/python3.11/dist-packages (from kaggle) (5.29.4)\n",
            "Requirement already satisfied: python-dateutil>=2.5.3 in /usr/local/lib/python3.11/dist-packages (from kaggle) (2.8.2)\n",
            "Requirement already satisfied: python-slugify in /usr/local/lib/python3.11/dist-packages (from kaggle) (8.0.4)\n",
            "Requirement already satisfied: requests in /usr/local/lib/python3.11/dist-packages (from kaggle) (2.32.3)\n",
            "Requirement already satisfied: setuptools>=21.0.0 in /usr/local/lib/python3.11/dist-packages (from kaggle) (75.1.0)\n",
            "Requirement already satisfied: six>=1.10 in /usr/local/lib/python3.11/dist-packages (from kaggle) (1.17.0)\n",
            "Requirement already satisfied: text-unidecode in /usr/local/lib/python3.11/dist-packages (from kaggle) (1.3)\n",
            "Requirement already satisfied: tqdm in /usr/local/lib/python3.11/dist-packages (from kaggle) (4.67.1)\n",
            "Requirement already satisfied: urllib3>=1.15.1 in /usr/local/lib/python3.11/dist-packages (from kaggle) (2.3.0)\n",
            "Requirement already satisfied: webencodings in /usr/local/lib/python3.11/dist-packages (from kaggle) (0.5.1)\n",
            "Requirement already satisfied: tensorflow in /usr/local/lib/python3.11/dist-packages (2.19.0)\n",
            "Requirement already satisfied: absl-py>=1.0.0 in /usr/local/lib/python3.11/dist-packages (from tensorflow) (1.4.0)\n",
            "Requirement already satisfied: astunparse>=1.6.0 in /usr/local/lib/python3.11/dist-packages (from tensorflow) (1.6.3)\n",
            "Requirement already satisfied: flatbuffers>=24.3.25 in /usr/local/lib/python3.11/dist-packages (from tensorflow) (25.2.10)\n",
            "Requirement already satisfied: gast!=0.5.0,!=0.5.1,!=0.5.2,>=0.2.1 in /usr/local/lib/python3.11/dist-packages (from tensorflow) (0.4.0)\n",
            "Requirement already satisfied: google-pasta>=0.1.1 in /usr/local/lib/python3.11/dist-packages (from tensorflow) (0.2.0)\n",
            "Requirement already satisfied: libclang>=13.0.0 in /usr/local/lib/python3.11/dist-packages (from tensorflow) (18.1.1)\n",
            "Requirement already satisfied: opt-einsum>=2.3.2 in /usr/local/lib/python3.11/dist-packages (from tensorflow) (3.4.0)\n",
            "Requirement already satisfied: packaging in /usr/local/lib/python3.11/dist-packages (from tensorflow) (23.2)\n",
            "Requirement already satisfied: protobuf!=4.21.0,!=4.21.1,!=4.21.2,!=4.21.3,!=4.21.4,!=4.21.5,<6.0.0dev,>=3.20.3 in /usr/local/lib/python3.11/dist-packages (from tensorflow) (5.29.4)\n",
            "Requirement already satisfied: requests<3,>=2.21.0 in /usr/local/lib/python3.11/dist-packages (from tensorflow) (2.32.3)\n",
            "Requirement already satisfied: setuptools in /usr/local/lib/python3.11/dist-packages (from tensorflow) (75.1.0)\n",
            "Requirement already satisfied: six>=1.12.0 in /usr/local/lib/python3.11/dist-packages (from tensorflow) (1.17.0)\n",
            "Requirement already satisfied: termcolor>=1.1.0 in /usr/local/lib/python3.11/dist-packages (from tensorflow) (2.5.0)\n",
            "Requirement already satisfied: typing-extensions>=3.6.6 in /usr/local/lib/python3.11/dist-packages (from tensorflow) (4.12.2)\n",
            "Requirement already satisfied: wrapt>=1.11.0 in /usr/local/lib/python3.11/dist-packages (from tensorflow) (1.14.1)\n",
            "Requirement already satisfied: grpcio<2.0,>=1.24.3 in /usr/local/lib/python3.11/dist-packages (from tensorflow) (1.71.0)\n",
            "Requirement already satisfied: tensorboard~=2.19.0 in /usr/local/lib/python3.11/dist-packages (from tensorflow) (2.19.0)\n",
            "Requirement already satisfied: keras>=3.5.0 in /usr/local/lib/python3.11/dist-packages (from tensorflow) (3.9.0)\n",
            "Requirement already satisfied: numpy<2.2.0,>=1.26.0 in /usr/local/lib/python3.11/dist-packages (from tensorflow) (2.1.3)\n",
            "Requirement already satisfied: h5py>=3.11.0 in /usr/local/lib/python3.11/dist-packages (from tensorflow) (3.13.0)\n",
            "Requirement already satisfied: ml-dtypes<1.0.0,>=0.5.1 in /usr/local/lib/python3.11/dist-packages (from tensorflow) (0.5.1)\n",
            "Requirement already satisfied: tensorflow-io-gcs-filesystem>=0.23.1 in /usr/local/lib/python3.11/dist-packages (from tensorflow) (0.37.1)\n",
            "Requirement already satisfied: wheel<1.0,>=0.23.0 in /usr/local/lib/python3.11/dist-packages (from astunparse>=1.6.0->tensorflow) (0.45.1)\n",
            "Requirement already satisfied: rich in /usr/local/lib/python3.11/dist-packages (from keras>=3.5.0->tensorflow) (13.9.4)\n",
            "Requirement already satisfied: namex in /usr/local/lib/python3.11/dist-packages (from keras>=3.5.0->tensorflow) (0.0.8)\n",
            "Requirement already satisfied: optree in /usr/local/lib/python3.11/dist-packages (from keras>=3.5.0->tensorflow) (0.14.1)\n",
            "Requirement already satisfied: charset-normalizer<4,>=2 in /usr/local/lib/python3.11/dist-packages (from requests<3,>=2.21.0->tensorflow) (3.4.1)\n",
            "Requirement already satisfied: idna<4,>=2.5 in /usr/local/lib/python3.11/dist-packages (from requests<3,>=2.21.0->tensorflow) (3.10)\n",
            "Requirement already satisfied: urllib3<3,>=1.21.1 in /usr/local/lib/python3.11/dist-packages (from requests<3,>=2.21.0->tensorflow) (2.3.0)\n",
            "Requirement already satisfied: certifi>=2017.4.17 in /usr/local/lib/python3.11/dist-packages (from requests<3,>=2.21.0->tensorflow) (2025.1.31)\n",
            "Requirement already satisfied: markdown>=2.6.8 in /usr/local/lib/python3.11/dist-packages (from tensorboard~=2.19.0->tensorflow) (3.7)\n",
            "Requirement already satisfied: tensorboard-data-server<0.8.0,>=0.7.0 in /usr/local/lib/python3.11/dist-packages (from tensorboard~=2.19.0->tensorflow) (0.7.2)\n",
            "Requirement already satisfied: werkzeug>=1.0.1 in /usr/local/lib/python3.11/dist-packages (from tensorboard~=2.19.0->tensorflow) (3.1.3)\n",
            "Requirement already satisfied: MarkupSafe>=2.1.1 in /usr/local/lib/python3.11/dist-packages (from werkzeug>=1.0.1->tensorboard~=2.19.0->tensorflow) (3.0.2)\n",
            "Requirement already satisfied: markdown-it-py>=2.2.0 in /usr/local/lib/python3.11/dist-packages (from rich->keras>=3.5.0->tensorflow) (3.0.0)\n",
            "Requirement already satisfied: pygments<3.0.0,>=2.13.0 in /usr/local/lib/python3.11/dist-packages (from rich->keras>=3.5.0->tensorflow) (2.18.0)\n",
            "Requirement already satisfied: mdurl~=0.1 in /usr/local/lib/python3.11/dist-packages (from markdown-it-py>=2.2.0->rich->keras>=3.5.0->tensorflow) (0.1.2)\n",
            "Requirement already satisfied: tensorflowjs in /usr/local/lib/python3.11/dist-packages (4.22.0)\n",
            "Requirement already satisfied: flax>=0.7.2 in /usr/local/lib/python3.11/dist-packages (from tensorflowjs) (0.10.4)\n",
            "Requirement already satisfied: importlib_resources>=5.9.0 in /usr/local/lib/python3.11/dist-packages (from tensorflowjs) (6.5.2)\n",
            "Requirement already satisfied: jax>=0.4.13 in /usr/local/lib/python3.11/dist-packages (from tensorflowjs) (0.5.3)\n",
            "Requirement already satisfied: jaxlib>=0.4.13 in /usr/local/lib/python3.11/dist-packages (from tensorflowjs) (0.5.3)\n",
            "Requirement already satisfied: tensorflow<3,>=2.13.0 in /usr/local/lib/python3.11/dist-packages (from tensorflowjs) (2.19.0)\n",
            "Requirement already satisfied: tf-keras>=2.13.0 in /usr/local/lib/python3.11/dist-packages (from tensorflowjs) (2.19.0)\n",
            "Requirement already satisfied: tensorflow-decision-forests>=1.5.0 in /usr/local/lib/python3.11/dist-packages (from tensorflowjs) (1.12.0)\n",
            "Requirement already satisfied: six<2,>=1.16.0 in /usr/local/lib/python3.11/dist-packages (from tensorflowjs) (1.17.0)\n",
            "Requirement already satisfied: tensorflow-hub>=0.16.1 in /usr/local/lib/python3.11/dist-packages (from tensorflowjs) (0.16.1)\n",
            "Requirement already satisfied: packaging~=23.1 in /usr/local/lib/python3.11/dist-packages (from tensorflowjs) (23.2)\n",
            "Requirement already satisfied: numpy>=1.23.2 in /usr/local/lib/python3.11/dist-packages (from flax>=0.7.2->tensorflowjs) (2.1.3)\n",
            "Requirement already satisfied: msgpack in /usr/local/lib/python3.11/dist-packages (from flax>=0.7.2->tensorflowjs) (1.1.0)\n",
            "Requirement already satisfied: optax in /usr/local/lib/python3.11/dist-packages (from flax>=0.7.2->tensorflowjs) (0.2.4)\n",
            "Requirement already satisfied: orbax-checkpoint in /usr/local/lib/python3.11/dist-packages (from flax>=0.7.2->tensorflowjs) (0.11.9)\n",
            "Requirement already satisfied: tensorstore in /usr/local/lib/python3.11/dist-packages (from flax>=0.7.2->tensorflowjs) (0.1.72)\n",
            "Requirement already satisfied: rich>=11.1 in /usr/local/lib/python3.11/dist-packages (from flax>=0.7.2->tensorflowjs) (13.9.4)\n",
            "Requirement already satisfied: typing_extensions>=4.2 in /usr/local/lib/python3.11/dist-packages (from flax>=0.7.2->tensorflowjs) (4.12.2)\n",
            "Requirement already satisfied: PyYAML>=5.4.1 in /usr/local/lib/python3.11/dist-packages (from flax>=0.7.2->tensorflowjs) (6.0.2)\n",
            "Requirement already satisfied: treescope>=0.1.7 in /usr/local/lib/python3.11/dist-packages (from flax>=0.7.2->tensorflowjs) (0.1.9)\n",
            "Requirement already satisfied: ml_dtypes>=0.4.0 in /usr/local/lib/python3.11/dist-packages (from jax>=0.4.13->tensorflowjs) (0.5.1)\n",
            "Requirement already satisfied: opt_einsum in /usr/local/lib/python3.11/dist-packages (from jax>=0.4.13->tensorflowjs) (3.4.0)\n",
            "Requirement already satisfied: scipy>=1.11.1 in /usr/local/lib/python3.11/dist-packages (from jax>=0.4.13->tensorflowjs) (1.14.1)\n",
            "Requirement already satisfied: absl-py>=1.0.0 in /usr/local/lib/python3.11/dist-packages (from tensorflow<3,>=2.13.0->tensorflowjs) (1.4.0)\n",
            "Requirement already satisfied: astunparse>=1.6.0 in /usr/local/lib/python3.11/dist-packages (from tensorflow<3,>=2.13.0->tensorflowjs) (1.6.3)\n",
            "Requirement already satisfied: flatbuffers>=24.3.25 in /usr/local/lib/python3.11/dist-packages (from tensorflow<3,>=2.13.0->tensorflowjs) (25.2.10)\n",
            "Requirement already satisfied: gast!=0.5.0,!=0.5.1,!=0.5.2,>=0.2.1 in /usr/local/lib/python3.11/dist-packages (from tensorflow<3,>=2.13.0->tensorflowjs) (0.4.0)\n",
            "Requirement already satisfied: google-pasta>=0.1.1 in /usr/local/lib/python3.11/dist-packages (from tensorflow<3,>=2.13.0->tensorflowjs) (0.2.0)\n",
            "Requirement already satisfied: libclang>=13.0.0 in /usr/local/lib/python3.11/dist-packages (from tensorflow<3,>=2.13.0->tensorflowjs) (18.1.1)\n",
            "Requirement already satisfied: protobuf!=4.21.0,!=4.21.1,!=4.21.2,!=4.21.3,!=4.21.4,!=4.21.5,<6.0.0dev,>=3.20.3 in /usr/local/lib/python3.11/dist-packages (from tensorflow<3,>=2.13.0->tensorflowjs) (5.29.4)\n",
            "Requirement already satisfied: requests<3,>=2.21.0 in /usr/local/lib/python3.11/dist-packages (from tensorflow<3,>=2.13.0->tensorflowjs) (2.32.3)\n",
            "Requirement already satisfied: setuptools in /usr/local/lib/python3.11/dist-packages (from tensorflow<3,>=2.13.0->tensorflowjs) (75.1.0)\n",
            "Requirement already satisfied: termcolor>=1.1.0 in /usr/local/lib/python3.11/dist-packages (from tensorflow<3,>=2.13.0->tensorflowjs) (2.5.0)\n",
            "Requirement already satisfied: wrapt>=1.11.0 in /usr/local/lib/python3.11/dist-packages (from tensorflow<3,>=2.13.0->tensorflowjs) (1.14.1)\n",
            "Requirement already satisfied: grpcio<2.0,>=1.24.3 in /usr/local/lib/python3.11/dist-packages (from tensorflow<3,>=2.13.0->tensorflowjs) (1.71.0)\n",
            "Requirement already satisfied: tensorboard~=2.19.0 in /usr/local/lib/python3.11/dist-packages (from tensorflow<3,>=2.13.0->tensorflowjs) (2.19.0)\n",
            "Requirement already satisfied: keras>=3.5.0 in /usr/local/lib/python3.11/dist-packages (from tensorflow<3,>=2.13.0->tensorflowjs) (3.9.0)\n",
            "Requirement already satisfied: h5py>=3.11.0 in /usr/local/lib/python3.11/dist-packages (from tensorflow<3,>=2.13.0->tensorflowjs) (3.13.0)\n",
            "Requirement already satisfied: tensorflow-io-gcs-filesystem>=0.23.1 in /usr/local/lib/python3.11/dist-packages (from tensorflow<3,>=2.13.0->tensorflowjs) (0.37.1)\n",
            "Requirement already satisfied: pandas in /usr/local/lib/python3.11/dist-packages (from tensorflow-decision-forests>=1.5.0->tensorflowjs) (2.2.2)\n",
            "Requirement already satisfied: wheel in /usr/local/lib/python3.11/dist-packages (from tensorflow-decision-forests>=1.5.0->tensorflowjs) (0.45.1)\n",
            "Requirement already satisfied: wurlitzer in /usr/local/lib/python3.11/dist-packages (from tensorflow-decision-forests>=1.5.0->tensorflowjs) (3.1.1)\n",
            "Requirement already satisfied: ydf>=0.11.0 in /usr/local/lib/python3.11/dist-packages (from tensorflow-decision-forests>=1.5.0->tensorflowjs) (0.11.0)\n",
            "Requirement already satisfied: namex in /usr/local/lib/python3.11/dist-packages (from keras>=3.5.0->tensorflow<3,>=2.13.0->tensorflowjs) (0.0.8)\n",
            "Requirement already satisfied: optree in /usr/local/lib/python3.11/dist-packages (from keras>=3.5.0->tensorflow<3,>=2.13.0->tensorflowjs) (0.14.1)\n",
            "Requirement already satisfied: charset-normalizer<4,>=2 in /usr/local/lib/python3.11/dist-packages (from requests<3,>=2.21.0->tensorflow<3,>=2.13.0->tensorflowjs) (3.4.1)\n",
            "Requirement already satisfied: idna<4,>=2.5 in /usr/local/lib/python3.11/dist-packages (from requests<3,>=2.21.0->tensorflow<3,>=2.13.0->tensorflowjs) (3.10)\n",
            "Requirement already satisfied: urllib3<3,>=1.21.1 in /usr/local/lib/python3.11/dist-packages (from requests<3,>=2.21.0->tensorflow<3,>=2.13.0->tensorflowjs) (2.3.0)\n",
            "Requirement already satisfied: certifi>=2017.4.17 in /usr/local/lib/python3.11/dist-packages (from requests<3,>=2.21.0->tensorflow<3,>=2.13.0->tensorflowjs) (2025.1.31)\n",
            "Requirement already satisfied: markdown-it-py>=2.2.0 in /usr/local/lib/python3.11/dist-packages (from rich>=11.1->flax>=0.7.2->tensorflowjs) (3.0.0)\n",
            "Requirement already satisfied: pygments<3.0.0,>=2.13.0 in /usr/local/lib/python3.11/dist-packages (from rich>=11.1->flax>=0.7.2->tensorflowjs) (2.18.0)\n",
            "Requirement already satisfied: markdown>=2.6.8 in /usr/local/lib/python3.11/dist-packages (from tensorboard~=2.19.0->tensorflow<3,>=2.13.0->tensorflowjs) (3.7)\n",
            "Requirement already satisfied: tensorboard-data-server<0.8.0,>=0.7.0 in /usr/local/lib/python3.11/dist-packages (from tensorboard~=2.19.0->tensorflow<3,>=2.13.0->tensorflowjs) (0.7.2)\n",
            "Requirement already satisfied: werkzeug>=1.0.1 in /usr/local/lib/python3.11/dist-packages (from tensorboard~=2.19.0->tensorflow<3,>=2.13.0->tensorflowjs) (3.1.3)\n",
            "Requirement already satisfied: chex>=0.1.87 in /usr/local/lib/python3.11/dist-packages (from optax->flax>=0.7.2->tensorflowjs) (0.1.89)\n",
            "Requirement already satisfied: etils[epy] in /usr/local/lib/python3.11/dist-packages (from optax->flax>=0.7.2->tensorflowjs) (1.12.2)\n",
            "Requirement already satisfied: nest_asyncio in /usr/local/lib/python3.11/dist-packages (from orbax-checkpoint->flax>=0.7.2->tensorflowjs) (1.6.0)\n",
            "Requirement already satisfied: humanize in /usr/local/lib/python3.11/dist-packages (from orbax-checkpoint->flax>=0.7.2->tensorflowjs) (4.12.1)\n",
            "Requirement already satisfied: simplejson>=3.16.0 in /usr/local/lib/python3.11/dist-packages (from orbax-checkpoint->flax>=0.7.2->tensorflowjs) (3.20.1)\n",
            "Requirement already satisfied: python-dateutil>=2.8.2 in /usr/local/lib/python3.11/dist-packages (from pandas->tensorflow-decision-forests>=1.5.0->tensorflowjs) (2.8.2)\n",
            "Requirement already satisfied: pytz>=2020.1 in /usr/local/lib/python3.11/dist-packages (from pandas->tensorflow-decision-forests>=1.5.0->tensorflowjs) (2025.1)\n",
            "Requirement already satisfied: tzdata>=2022.7 in /usr/local/lib/python3.11/dist-packages (from pandas->tensorflow-decision-forests>=1.5.0->tensorflowjs) (2025.1)\n",
            "Requirement already satisfied: toolz>=0.9.0 in /usr/local/lib/python3.11/dist-packages (from chex>=0.1.87->optax->flax>=0.7.2->tensorflowjs) (0.12.1)\n",
            "Requirement already satisfied: mdurl~=0.1 in /usr/local/lib/python3.11/dist-packages (from markdown-it-py>=2.2.0->rich>=11.1->flax>=0.7.2->tensorflowjs) (0.1.2)\n",
            "Requirement already satisfied: MarkupSafe>=2.1.1 in /usr/local/lib/python3.11/dist-packages (from werkzeug>=1.0.1->tensorboard~=2.19.0->tensorflow<3,>=2.13.0->tensorflowjs) (3.0.2)\n",
            "Requirement already satisfied: fsspec in /usr/local/lib/python3.11/dist-packages (from etils[epath,epy]->orbax-checkpoint->flax>=0.7.2->tensorflowjs) (2025.3.0)\n",
            "Requirement already satisfied: zipp in /usr/local/lib/python3.11/dist-packages (from etils[epath,epy]->orbax-checkpoint->flax>=0.7.2->tensorflowjs) (3.21.0)\n"
          ]
        }
      ]
    },
    {
      "cell_type": "code",
      "source": [
        "import os\n",
        "import numpy as np\n",
        "import tensorflow as tf\n",
        "import matplotlib.pyplot as plt\n",
        "from tensorflow import keras\n",
        "from tensorflow.keras import layers, models, callbacks\n",
        "from tensorflow.keras.layers import Input\n",
        "from tensorflow.keras.preprocessing.image import ImageDataGenerator\n",
        "from tensorflow.keras.applications import EfficientNetB0\n",
        "from tensorflow.keras.optimizers import AdamW\n",
        "from tensorflow.keras.layers import BatchNormalization, Dropout, Dense, GlobalAveragePooling2D\n",
        "from PIL import Image\n"
      ],
      "metadata": {
        "id": "lMxgclBySjj1",
        "colab": {
          "base_uri": "https://localhost:8080/"
        },
        "outputId": "a14d0487-0411-4119-9b28-de8d07e5edc3"
      },
      "execution_count": null,
      "outputs": [
        {
          "output_type": "stream",
          "name": "stderr",
          "text": [
            "/usr/local/lib/python3.11/dist-packages/jaxlib/plugin_support.py:71: RuntimeWarning: JAX plugin jax_cuda12_plugin version 0.5.1 is installed, but it is not compatible with the installed jaxlib version 0.5.3, so it will not be used.\n",
            "  warnings.warn(\n"
          ]
        }
      ]
    },
    {
      "cell_type": "code",
      "source": [
        "# Aktifkan Mixed Precision\n",
        "tf.keras.mixed_precision.set_global_policy('mixed_float16')\n"
      ],
      "metadata": {
        "id": "ft6mhw7K-p7Z"
      },
      "execution_count": null,
      "outputs": []
    },
    {
      "cell_type": "code",
      "source": [
        "import shutil\n",
        "\n",
        "# Pindahkan ke direktori yang benar\n",
        "os.makedirs(\"/root/.kaggle\", exist_ok=True)\n",
        "\n",
        "# Check if the file already exists in the destination\n",
        "if not os.path.exists(\"/root/.kaggle/kaggle.json\"):\n",
        "    shutil.move(\"kaggle.json\", \"/root/.kaggle/\")\n",
        "else:\n",
        "    print(\"kaggle.json already exists in the destination directory.\")\n",
        "\n",
        "# Ubah izin file agar tidak bisa diakses oleh orang lain\n",
        "os.chmod(\"/root/.kaggle/kaggle.json\", 600)\n"
      ],
      "metadata": {
        "id": "IkLorM3p3RyJ",
        "colab": {
          "base_uri": "https://localhost:8080/"
        },
        "outputId": "fc1cb28c-e70f-4861-f4db-ff259b46255b"
      },
      "execution_count": null,
      "outputs": [
        {
          "output_type": "stream",
          "name": "stdout",
          "text": [
            "kaggle.json already exists in the destination directory.\n"
          ]
        }
      ]
    },
    {
      "cell_type": "code",
      "source": [
        "!kaggle datasets download -d ashishjangra27/face-mask-12k-images-dataset\n"
      ],
      "metadata": {
        "colab": {
          "base_uri": "https://localhost:8080/"
        },
        "id": "_UdMl-wB5oZo",
        "outputId": "d33edc52-81c4-4ac5-acdb-70e4dd4c8161"
      },
      "execution_count": null,
      "outputs": [
        {
          "output_type": "stream",
          "name": "stdout",
          "text": [
            "Dataset URL: https://www.kaggle.com/datasets/ashishjangra27/face-mask-12k-images-dataset\n",
            "License(s): CC0-1.0\n"
          ]
        }
      ]
    },
    {
      "cell_type": "code",
      "source": [
        "import zipfile\n",
        "\n",
        "# Ekstrak dataset\n",
        "with zipfile.ZipFile(\"face-mask-12k-images-dataset.zip\", \"r\") as zip_ref:\n",
        "    zip_ref.extractall(\"/content/\")\n"
      ],
      "metadata": {
        "id": "hQa2aAyx6knl"
      },
      "execution_count": null,
      "outputs": []
    },
    {
      "cell_type": "markdown",
      "source": [
        "## Data Preparation"
      ],
      "metadata": {
        "id": "TK4DvqfbYrN8"
      }
    },
    {
      "cell_type": "markdown",
      "metadata": {
        "id": "HHekw29KX4XQ"
      },
      "source": [
        "### Data Loading"
      ]
    },
    {
      "cell_type": "code",
      "execution_count": null,
      "metadata": {
        "id": "wIcv1F9fX4XQ",
        "colab": {
          "base_uri": "https://localhost:8080/"
        },
        "outputId": "90faac56-8e2a-4b30-e87b-9dca16b5ec5a",
        "collapsed": true
      },
      "outputs": [
        {
          "output_type": "stream",
          "name": "stdout",
          "text": [
            "WithoutMask: 5000\n",
            "- (84, 84)\n",
            "- (116, 116)\n",
            "- (61, 61)\n",
            "- (126, 126)\n",
            "- (57, 57)\n",
            "- (122, 122)\n",
            "- (117, 117)\n",
            "- (94, 94)\n",
            "- (58, 58)\n",
            "- (90, 90)\n",
            "- (150, 150)\n",
            "- (127, 127)\n",
            "- (91, 91)\n",
            "- (123, 123)\n",
            "- (59, 59)\n",
            "- (124, 124)\n",
            "- (101, 101)\n",
            "- (156, 156)\n",
            "- (65, 65)\n",
            "- (97, 97)\n",
            "- (92, 92)\n",
            "- (33, 33)\n",
            "- (88, 88)\n",
            "- (98, 98)\n",
            "- (125, 125)\n",
            "- (70, 70)\n",
            "- (29, 29)\n",
            "- (121, 121)\n",
            "- (66, 66)\n",
            "- (131, 131)\n",
            "- (72, 72)\n",
            "- (99, 99)\n",
            "- (44, 44)\n",
            "- (95, 95)\n",
            "- (132, 132)\n",
            "- (96, 96)\n",
            "- (128, 128)\n",
            "- (69, 69)\n",
            "- (129, 129)\n",
            "- (106, 106)\n",
            "- (102, 102)\n",
            "- (47, 47)\n",
            "- (139, 139)\n",
            "- (134, 134)\n",
            "- (103, 103)\n",
            "- (80, 80)\n",
            "- (135, 135)\n",
            "- (130, 130)\n",
            "- (75, 75)\n",
            "- (76, 76)\n",
            "- (71, 71)\n",
            "- (136, 136)\n",
            "- (108, 108)\n",
            "- (67, 67)\n",
            "- (77, 77)\n",
            "- (104, 104)\n",
            "- (114, 114)\n",
            "- (100, 100)\n",
            "- (110, 110)\n",
            "- (105, 105)\n",
            "- (82, 82)\n",
            "- (51, 51)\n",
            "- (78, 78)\n",
            "- (133, 133)\n",
            "- (143, 143)\n",
            "- (138, 138)\n",
            "- (115, 115)\n",
            "- (74, 74)\n",
            "- (79, 79)\n",
            "- (56, 56)\n",
            "- (111, 111)\n",
            "- (107, 107)\n",
            "- (52, 52)\n",
            "- (112, 112)\n",
            "- (89, 89)\n",
            "- (53, 53)\n",
            "- (85, 85)\n",
            "- (30, 30)\n",
            "- (145, 145)\n",
            "- (81, 81)\n",
            "- (26, 26)\n",
            "- (86, 86)\n",
            "- (141, 141)\n",
            "- (118, 118)\n",
            "- (113, 113)\n",
            "- (27, 27)\n",
            "- (109, 109)\n",
            "- (54, 54)\n",
            "- (119, 119)\n",
            "- (146, 146)\n",
            "- (55, 55)\n",
            "- (50, 50)\n",
            "- (87, 87)\n",
            "- (83, 83)\n",
            "- (28, 28)\n",
            "- (93, 93)\n",
            "- (120, 120)\n",
            "---------------\n",
            "WithMask: 5000\n",
            "- (84, 84)\n",
            "- (116, 116)\n",
            "- (61, 61)\n",
            "- (126, 126)\n",
            "- (153, 153)\n",
            "- (57, 57)\n",
            "- (122, 122)\n",
            "- (117, 117)\n",
            "- (94, 94)\n",
            "- (58, 58)\n",
            "- (25, 25)\n",
            "- (90, 90)\n",
            "- (35, 35)\n",
            "- (150, 150)\n",
            "- (127, 127)\n",
            "- (338, 338)\n",
            "- (31, 31)\n",
            "- (91, 91)\n",
            "- (123, 123)\n",
            "- (68, 68)\n",
            "- (63, 63)\n",
            "- (32, 32)\n",
            "- (64, 64)\n",
            "- (330, 330)\n",
            "- (59, 59)\n",
            "- (124, 124)\n",
            "- (101, 101)\n",
            "- (156, 156)\n",
            "- (65, 65)\n",
            "- (97, 97)\n",
            "- (92, 92)\n",
            "- (33, 33)\n",
            "- (88, 88)\n",
            "- (98, 98)\n",
            "- (125, 125)\n",
            "- (70, 70)\n",
            "- (29, 29)\n",
            "- (39, 39)\n",
            "- (121, 121)\n",
            "- (66, 66)\n",
            "- (131, 131)\n",
            "- (158, 158)\n",
            "- (62, 62)\n",
            "- (72, 72)\n",
            "- (99, 99)\n",
            "- (44, 44)\n",
            "- (95, 95)\n",
            "- (40, 40)\n",
            "- (132, 132)\n",
            "- (36, 36)\n",
            "- (224, 224)\n",
            "- (96, 96)\n",
            "- (128, 128)\n",
            "- (73, 73)\n",
            "- (284, 284)\n",
            "- (69, 69)\n",
            "- (129, 129)\n",
            "- (106, 106)\n",
            "- (37, 37)\n",
            "- (102, 102)\n",
            "- (47, 47)\n",
            "- (42, 42)\n",
            "- (139, 139)\n",
            "- (134, 134)\n",
            "- (43, 43)\n",
            "- (38, 38)\n",
            "- (103, 103)\n",
            "- (80, 80)\n",
            "- (135, 135)\n",
            "- (130, 130)\n",
            "- (75, 75)\n",
            "- (140, 140)\n",
            "- (34, 34)\n",
            "- (76, 76)\n",
            "- (71, 71)\n",
            "- (136, 136)\n",
            "- (108, 108)\n",
            "- (173, 173)\n",
            "- (67, 67)\n",
            "- (77, 77)\n",
            "- (104, 104)\n",
            "- (49, 49)\n",
            "- (114, 114)\n",
            "- (563, 563)\n",
            "- (100, 100)\n",
            "- (45, 45)\n",
            "- (110, 110)\n",
            "- (105, 105)\n",
            "- (82, 82)\n",
            "- (137, 137)\n",
            "- (147, 147)\n",
            "- (41, 41)\n",
            "- (51, 51)\n",
            "- (78, 78)\n",
            "- (133, 133)\n",
            "- (143, 143)\n",
            "- (138, 138)\n",
            "- (115, 115)\n",
            "- (170, 170)\n",
            "- (74, 74)\n",
            "- (79, 79)\n",
            "- (56, 56)\n",
            "- (111, 111)\n",
            "- (107, 107)\n",
            "- (52, 52)\n",
            "- (112, 112)\n",
            "- (89, 89)\n",
            "- (48, 48)\n",
            "- (53, 53)\n",
            "- (85, 85)\n",
            "- (30, 30)\n",
            "- (145, 145)\n",
            "- (81, 81)\n",
            "- (26, 26)\n",
            "- (86, 86)\n",
            "- (141, 141)\n",
            "- (118, 118)\n",
            "- (113, 113)\n",
            "- (178, 178)\n",
            "- (27, 27)\n",
            "- (109, 109)\n",
            "- (54, 54)\n",
            "- (119, 119)\n",
            "- (151, 151)\n",
            "- (307, 307)\n",
            "- (146, 146)\n",
            "- (55, 55)\n",
            "- (50, 50)\n",
            "- (60, 60)\n",
            "- (87, 87)\n",
            "- (142, 142)\n",
            "- (152, 152)\n",
            "- (46, 46)\n",
            "- (299, 299)\n",
            "- (83, 83)\n",
            "- (28, 28)\n",
            "- (93, 93)\n",
            "- (148, 148)\n",
            "- (120, 120)\n",
            "---------------\n",
            "\n",
            "Total: 10000\n"
          ]
        }
      ],
      "source": [
        "# 1. Data Preparation & Loading\n",
        "dataset_path = \"/content/Face Mask Dataset/\"\n",
        "train_dir = os.path.join(dataset_path, \"Train\")\n",
        "val_dir = os.path.join(dataset_path, \"Validation\")\n",
        "test_dir = os.path.join(dataset_path, \"Test\")\n",
        "\n",
        "# Melihat jumlah gambar dan resolusinya\n",
        "def print_images_resolution(directory):\n",
        "    unique_sizes = set()\n",
        "    total_images = 0\n",
        "\n",
        "    for subdir in os.listdir(directory):\n",
        "        subdir_path = os.path.join(directory, subdir)\n",
        "        image_files = os.listdir(subdir_path)\n",
        "        num_images = len(image_files)\n",
        "        print(f\"{subdir}: {num_images}\")\n",
        "        total_images += num_images\n",
        "\n",
        "        for img_file in image_files:\n",
        "            img_path = os.path.join(subdir_path, img_file)\n",
        "            with Image.open(img_path) as img:\n",
        "                unique_sizes.add(img.size)\n",
        "\n",
        "        for size in unique_sizes:\n",
        "            print(f\"- {size}\")\n",
        "        print(\"---------------\")\n",
        "\n",
        "    print(f\"\\nTotal: {total_images}\")\n",
        "\n",
        "print_images_resolution(train_dir)\n"
      ]
    },
    {
      "cell_type": "markdown",
      "metadata": {
        "id": "bFgLyQPHX98s"
      },
      "source": [
        "### Data Preprocessing"
      ]
    },
    {
      "cell_type": "markdown",
      "source": [
        "#### Split Dataset"
      ],
      "metadata": {
        "id": "9ICO2-E0YxzD"
      }
    },
    {
      "cell_type": "code",
      "execution_count": null,
      "metadata": {
        "id": "8HJokQbxX98s",
        "colab": {
          "base_uri": "https://localhost:8080/"
        },
        "outputId": "00513ec3-9cab-4326-fe16-e2d1aeb6aa14",
        "collapsed": true
      },
      "outputs": [
        {
          "output_type": "stream",
          "name": "stdout",
          "text": [
            "Found 10000 images belonging to 2 classes.\n",
            "Found 800 images belonging to 2 classes.\n",
            "Found 992 images belonging to 2 classes.\n"
          ]
        }
      ],
      "source": [
        "# 2. Data Preprocessing & Augmentation\n",
        "img_height, img_width = 224, 224\n",
        "batch_size = 32\n",
        "\n",
        "train_datagen = ImageDataGenerator(\n",
        "    rescale=1.0/255.0,\n",
        "    rotation_range=30,\n",
        "    width_shift_range=0.2,\n",
        "    height_shift_range=0.2,\n",
        "    shear_range=0.2,\n",
        "    zoom_range=0.2,\n",
        "    horizontal_flip=True\n",
        ")\n",
        "val_test_datagen = ImageDataGenerator(rescale=1.0/255.0)\n",
        "\n",
        "train_data = train_datagen.flow_from_directory(\n",
        "    train_dir,\n",
        "    target_size=(img_height, img_width),\n",
        "    batch_size=batch_size,\n",
        "    class_mode='categorical'\n",
        ")\n",
        "val_data = val_test_datagen.flow_from_directory(\n",
        "    val_dir,\n",
        "    target_size=(img_height, img_width),\n",
        "    batch_size=batch_size,\n",
        "    class_mode='categorical'\n",
        ")\n",
        "test_data = val_test_datagen.flow_from_directory(\n",
        "    test_dir,\n",
        "    target_size=(img_height, img_width),\n",
        "    batch_size=batch_size,\n",
        "    class_mode='categorical',\n",
        "    shuffle=False\n",
        ")"
      ]
    },
    {
      "cell_type": "markdown",
      "metadata": {
        "id": "nc-Ph-oIYAUU"
      },
      "source": [
        "## Modelling"
      ]
    },
    {
      "cell_type": "code",
      "execution_count": null,
      "metadata": {
        "id": "UTwK0t8XYAUU",
        "colab": {
          "base_uri": "https://localhost:8080/",
          "height": 1000
        },
        "outputId": "b697d73e-8091-4c9f-ff5d-0f09bdd4c750",
        "collapsed": true
      },
      "outputs": [
        {
          "output_type": "display_data",
          "data": {
            "text/plain": [
              "\u001b[1mModel: \"sequential\"\u001b[0m\n"
            ],
            "text/html": [
              "<pre style=\"white-space:pre;overflow-x:auto;line-height:normal;font-family:Menlo,'DejaVu Sans Mono',consolas,'Courier New',monospace\"><span style=\"font-weight: bold\">Model: \"sequential\"</span>\n",
              "</pre>\n"
            ]
          },
          "metadata": {}
        },
        {
          "output_type": "display_data",
          "data": {
            "text/plain": [
              "┏━━━━━━━━━━━━━━━━━━━━━━━━━━━━━━━━━━━━━━┳━━━━━━━━━━━━━━━━━━━━━━━━━━━━━┳━━━━━━━━━━━━━━━━━┓\n",
              "┃\u001b[1m \u001b[0m\u001b[1mLayer (type)                        \u001b[0m\u001b[1m \u001b[0m┃\u001b[1m \u001b[0m\u001b[1mOutput Shape               \u001b[0m\u001b[1m \u001b[0m┃\u001b[1m \u001b[0m\u001b[1m        Param #\u001b[0m\u001b[1m \u001b[0m┃\n",
              "┡━━━━━━━━━━━━━━━━━━━━━━━━━━━━━━━━━━━━━━╇━━━━━━━━━━━━━━━━━━━━━━━━━━━━━╇━━━━━━━━━━━━━━━━━┩\n",
              "│ conv2d (\u001b[38;5;33mConv2D\u001b[0m)                      │ (\u001b[38;5;45mNone\u001b[0m, \u001b[38;5;34m222\u001b[0m, \u001b[38;5;34m222\u001b[0m, \u001b[38;5;34m32\u001b[0m)        │             \u001b[38;5;34m896\u001b[0m │\n",
              "├──────────────────────────────────────┼─────────────────────────────┼─────────────────┤\n",
              "│ max_pooling2d (\u001b[38;5;33mMaxPooling2D\u001b[0m)         │ (\u001b[38;5;45mNone\u001b[0m, \u001b[38;5;34m111\u001b[0m, \u001b[38;5;34m111\u001b[0m, \u001b[38;5;34m32\u001b[0m)        │               \u001b[38;5;34m0\u001b[0m │\n",
              "├──────────────────────────────────────┼─────────────────────────────┼─────────────────┤\n",
              "│ conv2d_1 (\u001b[38;5;33mConv2D\u001b[0m)                    │ (\u001b[38;5;45mNone\u001b[0m, \u001b[38;5;34m109\u001b[0m, \u001b[38;5;34m109\u001b[0m, \u001b[38;5;34m64\u001b[0m)        │          \u001b[38;5;34m18,496\u001b[0m │\n",
              "├──────────────────────────────────────┼─────────────────────────────┼─────────────────┤\n",
              "│ max_pooling2d_1 (\u001b[38;5;33mMaxPooling2D\u001b[0m)       │ (\u001b[38;5;45mNone\u001b[0m, \u001b[38;5;34m54\u001b[0m, \u001b[38;5;34m54\u001b[0m, \u001b[38;5;34m64\u001b[0m)          │               \u001b[38;5;34m0\u001b[0m │\n",
              "├──────────────────────────────────────┼─────────────────────────────┼─────────────────┤\n",
              "│ conv2d_2 (\u001b[38;5;33mConv2D\u001b[0m)                    │ (\u001b[38;5;45mNone\u001b[0m, \u001b[38;5;34m52\u001b[0m, \u001b[38;5;34m52\u001b[0m, \u001b[38;5;34m128\u001b[0m)         │          \u001b[38;5;34m73,856\u001b[0m │\n",
              "├──────────────────────────────────────┼─────────────────────────────┼─────────────────┤\n",
              "│ max_pooling2d_2 (\u001b[38;5;33mMaxPooling2D\u001b[0m)       │ (\u001b[38;5;45mNone\u001b[0m, \u001b[38;5;34m26\u001b[0m, \u001b[38;5;34m26\u001b[0m, \u001b[38;5;34m128\u001b[0m)         │               \u001b[38;5;34m0\u001b[0m │\n",
              "├──────────────────────────────────────┼─────────────────────────────┼─────────────────┤\n",
              "│ flatten (\u001b[38;5;33mFlatten\u001b[0m)                    │ (\u001b[38;5;45mNone\u001b[0m, \u001b[38;5;34m86528\u001b[0m)               │               \u001b[38;5;34m0\u001b[0m │\n",
              "├──────────────────────────────────────┼─────────────────────────────┼─────────────────┤\n",
              "│ dense (\u001b[38;5;33mDense\u001b[0m)                        │ (\u001b[38;5;45mNone\u001b[0m, \u001b[38;5;34m256\u001b[0m)                 │      \u001b[38;5;34m22,151,424\u001b[0m │\n",
              "├──────────────────────────────────────┼─────────────────────────────┼─────────────────┤\n",
              "│ dropout (\u001b[38;5;33mDropout\u001b[0m)                    │ (\u001b[38;5;45mNone\u001b[0m, \u001b[38;5;34m256\u001b[0m)                 │               \u001b[38;5;34m0\u001b[0m │\n",
              "├──────────────────────────────────────┼─────────────────────────────┼─────────────────┤\n",
              "│ dense_1 (\u001b[38;5;33mDense\u001b[0m)                      │ (\u001b[38;5;45mNone\u001b[0m, \u001b[38;5;34m2\u001b[0m)                   │             \u001b[38;5;34m514\u001b[0m │\n",
              "└──────────────────────────────────────┴─────────────────────────────┴─────────────────┘\n"
            ],
            "text/html": [
              "<pre style=\"white-space:pre;overflow-x:auto;line-height:normal;font-family:Menlo,'DejaVu Sans Mono',consolas,'Courier New',monospace\">┏━━━━━━━━━━━━━━━━━━━━━━━━━━━━━━━━━━━━━━┳━━━━━━━━━━━━━━━━━━━━━━━━━━━━━┳━━━━━━━━━━━━━━━━━┓\n",
              "┃<span style=\"font-weight: bold\"> Layer (type)                         </span>┃<span style=\"font-weight: bold\"> Output Shape                </span>┃<span style=\"font-weight: bold\">         Param # </span>┃\n",
              "┡━━━━━━━━━━━━━━━━━━━━━━━━━━━━━━━━━━━━━━╇━━━━━━━━━━━━━━━━━━━━━━━━━━━━━╇━━━━━━━━━━━━━━━━━┩\n",
              "│ conv2d (<span style=\"color: #0087ff; text-decoration-color: #0087ff\">Conv2D</span>)                      │ (<span style=\"color: #00d7ff; text-decoration-color: #00d7ff\">None</span>, <span style=\"color: #00af00; text-decoration-color: #00af00\">222</span>, <span style=\"color: #00af00; text-decoration-color: #00af00\">222</span>, <span style=\"color: #00af00; text-decoration-color: #00af00\">32</span>)        │             <span style=\"color: #00af00; text-decoration-color: #00af00\">896</span> │\n",
              "├──────────────────────────────────────┼─────────────────────────────┼─────────────────┤\n",
              "│ max_pooling2d (<span style=\"color: #0087ff; text-decoration-color: #0087ff\">MaxPooling2D</span>)         │ (<span style=\"color: #00d7ff; text-decoration-color: #00d7ff\">None</span>, <span style=\"color: #00af00; text-decoration-color: #00af00\">111</span>, <span style=\"color: #00af00; text-decoration-color: #00af00\">111</span>, <span style=\"color: #00af00; text-decoration-color: #00af00\">32</span>)        │               <span style=\"color: #00af00; text-decoration-color: #00af00\">0</span> │\n",
              "├──────────────────────────────────────┼─────────────────────────────┼─────────────────┤\n",
              "│ conv2d_1 (<span style=\"color: #0087ff; text-decoration-color: #0087ff\">Conv2D</span>)                    │ (<span style=\"color: #00d7ff; text-decoration-color: #00d7ff\">None</span>, <span style=\"color: #00af00; text-decoration-color: #00af00\">109</span>, <span style=\"color: #00af00; text-decoration-color: #00af00\">109</span>, <span style=\"color: #00af00; text-decoration-color: #00af00\">64</span>)        │          <span style=\"color: #00af00; text-decoration-color: #00af00\">18,496</span> │\n",
              "├──────────────────────────────────────┼─────────────────────────────┼─────────────────┤\n",
              "│ max_pooling2d_1 (<span style=\"color: #0087ff; text-decoration-color: #0087ff\">MaxPooling2D</span>)       │ (<span style=\"color: #00d7ff; text-decoration-color: #00d7ff\">None</span>, <span style=\"color: #00af00; text-decoration-color: #00af00\">54</span>, <span style=\"color: #00af00; text-decoration-color: #00af00\">54</span>, <span style=\"color: #00af00; text-decoration-color: #00af00\">64</span>)          │               <span style=\"color: #00af00; text-decoration-color: #00af00\">0</span> │\n",
              "├──────────────────────────────────────┼─────────────────────────────┼─────────────────┤\n",
              "│ conv2d_2 (<span style=\"color: #0087ff; text-decoration-color: #0087ff\">Conv2D</span>)                    │ (<span style=\"color: #00d7ff; text-decoration-color: #00d7ff\">None</span>, <span style=\"color: #00af00; text-decoration-color: #00af00\">52</span>, <span style=\"color: #00af00; text-decoration-color: #00af00\">52</span>, <span style=\"color: #00af00; text-decoration-color: #00af00\">128</span>)         │          <span style=\"color: #00af00; text-decoration-color: #00af00\">73,856</span> │\n",
              "├──────────────────────────────────────┼─────────────────────────────┼─────────────────┤\n",
              "│ max_pooling2d_2 (<span style=\"color: #0087ff; text-decoration-color: #0087ff\">MaxPooling2D</span>)       │ (<span style=\"color: #00d7ff; text-decoration-color: #00d7ff\">None</span>, <span style=\"color: #00af00; text-decoration-color: #00af00\">26</span>, <span style=\"color: #00af00; text-decoration-color: #00af00\">26</span>, <span style=\"color: #00af00; text-decoration-color: #00af00\">128</span>)         │               <span style=\"color: #00af00; text-decoration-color: #00af00\">0</span> │\n",
              "├──────────────────────────────────────┼─────────────────────────────┼─────────────────┤\n",
              "│ flatten (<span style=\"color: #0087ff; text-decoration-color: #0087ff\">Flatten</span>)                    │ (<span style=\"color: #00d7ff; text-decoration-color: #00d7ff\">None</span>, <span style=\"color: #00af00; text-decoration-color: #00af00\">86528</span>)               │               <span style=\"color: #00af00; text-decoration-color: #00af00\">0</span> │\n",
              "├──────────────────────────────────────┼─────────────────────────────┼─────────────────┤\n",
              "│ dense (<span style=\"color: #0087ff; text-decoration-color: #0087ff\">Dense</span>)                        │ (<span style=\"color: #00d7ff; text-decoration-color: #00d7ff\">None</span>, <span style=\"color: #00af00; text-decoration-color: #00af00\">256</span>)                 │      <span style=\"color: #00af00; text-decoration-color: #00af00\">22,151,424</span> │\n",
              "├──────────────────────────────────────┼─────────────────────────────┼─────────────────┤\n",
              "│ dropout (<span style=\"color: #0087ff; text-decoration-color: #0087ff\">Dropout</span>)                    │ (<span style=\"color: #00d7ff; text-decoration-color: #00d7ff\">None</span>, <span style=\"color: #00af00; text-decoration-color: #00af00\">256</span>)                 │               <span style=\"color: #00af00; text-decoration-color: #00af00\">0</span> │\n",
              "├──────────────────────────────────────┼─────────────────────────────┼─────────────────┤\n",
              "│ dense_1 (<span style=\"color: #0087ff; text-decoration-color: #0087ff\">Dense</span>)                      │ (<span style=\"color: #00d7ff; text-decoration-color: #00d7ff\">None</span>, <span style=\"color: #00af00; text-decoration-color: #00af00\">2</span>)                   │             <span style=\"color: #00af00; text-decoration-color: #00af00\">514</span> │\n",
              "└──────────────────────────────────────┴─────────────────────────────┴─────────────────┘\n",
              "</pre>\n"
            ]
          },
          "metadata": {}
        },
        {
          "output_type": "display_data",
          "data": {
            "text/plain": [
              "\u001b[1m Total params: \u001b[0m\u001b[38;5;34m22,245,186\u001b[0m (84.86 MB)\n"
            ],
            "text/html": [
              "<pre style=\"white-space:pre;overflow-x:auto;line-height:normal;font-family:Menlo,'DejaVu Sans Mono',consolas,'Courier New',monospace\"><span style=\"font-weight: bold\"> Total params: </span><span style=\"color: #00af00; text-decoration-color: #00af00\">22,245,186</span> (84.86 MB)\n",
              "</pre>\n"
            ]
          },
          "metadata": {}
        },
        {
          "output_type": "display_data",
          "data": {
            "text/plain": [
              "\u001b[1m Trainable params: \u001b[0m\u001b[38;5;34m22,245,186\u001b[0m (84.86 MB)\n"
            ],
            "text/html": [
              "<pre style=\"white-space:pre;overflow-x:auto;line-height:normal;font-family:Menlo,'DejaVu Sans Mono',consolas,'Courier New',monospace\"><span style=\"font-weight: bold\"> Trainable params: </span><span style=\"color: #00af00; text-decoration-color: #00af00\">22,245,186</span> (84.86 MB)\n",
              "</pre>\n"
            ]
          },
          "metadata": {}
        },
        {
          "output_type": "display_data",
          "data": {
            "text/plain": [
              "\u001b[1m Non-trainable params: \u001b[0m\u001b[38;5;34m0\u001b[0m (0.00 B)\n"
            ],
            "text/html": [
              "<pre style=\"white-space:pre;overflow-x:auto;line-height:normal;font-family:Menlo,'DejaVu Sans Mono',consolas,'Courier New',monospace\"><span style=\"font-weight: bold\"> Non-trainable params: </span><span style=\"color: #00af00; text-decoration-color: #00af00\">0</span> (0.00 B)\n",
              "</pre>\n"
            ]
          },
          "metadata": {}
        },
        {
          "output_type": "stream",
          "name": "stderr",
          "text": [
            "/usr/local/lib/python3.11/dist-packages/keras/src/trainers/data_adapters/py_dataset_adapter.py:121: UserWarning: Your `PyDataset` class should call `super().__init__(**kwargs)` in its constructor. `**kwargs` can include `workers`, `use_multiprocessing`, `max_queue_size`. Do not pass these arguments to `fit()`, as they will be ignored.\n",
            "  self._warn_if_super_not_called()\n"
          ]
        },
        {
          "output_type": "stream",
          "name": "stdout",
          "text": [
            "Epoch 1/30\n",
            "\u001b[1m313/313\u001b[0m \u001b[32m━━━━━━━━━━━━━━━━━━━━\u001b[0m\u001b[37m\u001b[0m \u001b[1m151s\u001b[0m 437ms/step - accuracy: 0.7599 - loss: 1.6197 - val_accuracy: 0.9688 - val_loss: 0.1117 - learning_rate: 0.0010\n",
            "Epoch 2/30\n",
            "\u001b[1m313/313\u001b[0m \u001b[32m━━━━━━━━━━━━━━━━━━━━\u001b[0m\u001b[37m\u001b[0m \u001b[1m119s\u001b[0m 381ms/step - accuracy: 0.9347 - loss: 0.1794 - val_accuracy: 0.9588 - val_loss: 0.1062 - learning_rate: 0.0010\n",
            "Epoch 3/30\n",
            "\u001b[1m313/313\u001b[0m \u001b[32m━━━━━━━━━━━━━━━━━━━━\u001b[0m\u001b[37m\u001b[0m \u001b[1m119s\u001b[0m 381ms/step - accuracy: 0.9344 - loss: 0.1681 - val_accuracy: 0.9650 - val_loss: 0.1050 - learning_rate: 0.0010\n",
            "Epoch 4/30\n",
            "\u001b[1m313/313\u001b[0m \u001b[32m━━━━━━━━━━━━━━━━━━━━\u001b[0m\u001b[37m\u001b[0m \u001b[1m118s\u001b[0m 378ms/step - accuracy: 0.9435 - loss: 0.1690 - val_accuracy: 0.9762 - val_loss: 0.0705 - learning_rate: 0.0010\n",
            "Epoch 5/30\n",
            "\u001b[1m313/313\u001b[0m \u001b[32m━━━━━━━━━━━━━━━━━━━━\u001b[0m\u001b[37m\u001b[0m \u001b[1m118s\u001b[0m 378ms/step - accuracy: 0.9501 - loss: 0.1467 - val_accuracy: 0.9675 - val_loss: 0.0968 - learning_rate: 0.0010\n",
            "Epoch 6/30\n",
            "\u001b[1m313/313\u001b[0m \u001b[32m━━━━━━━━━━━━━━━━━━━━\u001b[0m\u001b[37m\u001b[0m \u001b[1m119s\u001b[0m 381ms/step - accuracy: 0.9503 - loss: 0.1404 - val_accuracy: 0.9688 - val_loss: 0.0823 - learning_rate: 0.0010\n",
            "Epoch 7/30\n",
            "\u001b[1m313/313\u001b[0m \u001b[32m━━━━━━━━━━━━━━━━━━━━\u001b[0m\u001b[37m\u001b[0m \u001b[1m118s\u001b[0m 378ms/step - accuracy: 0.9525 - loss: 0.1383 - val_accuracy: 0.9737 - val_loss: 0.0779 - learning_rate: 0.0010\n",
            "Epoch 8/30\n",
            "\u001b[1m313/313\u001b[0m \u001b[32m━━━━━━━━━━━━━━━━━━━━\u001b[0m\u001b[37m\u001b[0m \u001b[1m118s\u001b[0m 376ms/step - accuracy: 0.9584 - loss: 0.1084 - val_accuracy: 0.9812 - val_loss: 0.0624 - learning_rate: 2.0000e-04\n",
            "Epoch 9/30\n",
            "\u001b[1m313/313\u001b[0m \u001b[32m━━━━━━━━━━━━━━━━━━━━\u001b[0m\u001b[37m\u001b[0m \u001b[1m122s\u001b[0m 390ms/step - accuracy: 0.9609 - loss: 0.1147 - val_accuracy: 0.9812 - val_loss: 0.0580 - learning_rate: 2.0000e-04\n",
            "Epoch 10/30\n",
            "\u001b[1m313/313\u001b[0m \u001b[32m━━━━━━━━━━━━━━━━━━━━\u001b[0m\u001b[37m\u001b[0m \u001b[1m120s\u001b[0m 383ms/step - accuracy: 0.9651 - loss: 0.1001 - val_accuracy: 0.9825 - val_loss: 0.0494 - learning_rate: 2.0000e-04\n",
            "Epoch 11/30\n",
            "\u001b[1m313/313\u001b[0m \u001b[32m━━━━━━━━━━━━━━━━━━━━\u001b[0m\u001b[37m\u001b[0m \u001b[1m119s\u001b[0m 380ms/step - accuracy: 0.9696 - loss: 0.0928 - val_accuracy: 0.9825 - val_loss: 0.0460 - learning_rate: 2.0000e-04\n",
            "Epoch 12/30\n",
            "\u001b[1m313/313\u001b[0m \u001b[32m━━━━━━━━━━━━━━━━━━━━\u001b[0m\u001b[37m\u001b[0m \u001b[1m119s\u001b[0m 380ms/step - accuracy: 0.9721 - loss: 0.0815 - val_accuracy: 0.9812 - val_loss: 0.0448 - learning_rate: 2.0000e-04\n",
            "Epoch 13/30\n",
            "\u001b[1m313/313\u001b[0m \u001b[32m━━━━━━━━━━━━━━━━━━━━\u001b[0m\u001b[37m\u001b[0m \u001b[1m118s\u001b[0m 377ms/step - accuracy: 0.9705 - loss: 0.0880 - val_accuracy: 0.9850 - val_loss: 0.0451 - learning_rate: 2.0000e-04\n",
            "Epoch 14/30\n",
            "\u001b[1m313/313\u001b[0m \u001b[32m━━━━━━━━━━━━━━━━━━━━\u001b[0m\u001b[37m\u001b[0m \u001b[1m120s\u001b[0m 383ms/step - accuracy: 0.9713 - loss: 0.0836 - val_accuracy: 0.9850 - val_loss: 0.0488 - learning_rate: 2.0000e-04\n",
            "Epoch 15/30\n",
            "\u001b[1m313/313\u001b[0m \u001b[32m━━━━━━━━━━━━━━━━━━━━\u001b[0m\u001b[37m\u001b[0m \u001b[1m119s\u001b[0m 380ms/step - accuracy: 0.9738 - loss: 0.0807 - val_accuracy: 0.9850 - val_loss: 0.0367 - learning_rate: 2.0000e-04\n",
            "Epoch 16/30\n",
            "\u001b[1m313/313\u001b[0m \u001b[32m━━━━━━━━━━━━━━━━━━━━\u001b[0m\u001b[37m\u001b[0m \u001b[1m120s\u001b[0m 382ms/step - accuracy: 0.9747 - loss: 0.0730 - val_accuracy: 0.9837 - val_loss: 0.0518 - learning_rate: 2.0000e-04\n",
            "Epoch 17/30\n",
            "\u001b[1m313/313\u001b[0m \u001b[32m━━━━━━━━━━━━━━━━━━━━\u001b[0m\u001b[37m\u001b[0m \u001b[1m120s\u001b[0m 384ms/step - accuracy: 0.9759 - loss: 0.0733 - val_accuracy: 0.9887 - val_loss: 0.0328 - learning_rate: 2.0000e-04\n",
            "Epoch 18/30\n",
            "\u001b[1m313/313\u001b[0m \u001b[32m━━━━━━━━━━━━━━━━━━━━\u001b[0m\u001b[37m\u001b[0m \u001b[1m120s\u001b[0m 382ms/step - accuracy: 0.9717 - loss: 0.0809 - val_accuracy: 0.9850 - val_loss: 0.0424 - learning_rate: 2.0000e-04\n",
            "Epoch 19/30\n",
            "\u001b[1m313/313\u001b[0m \u001b[32m━━━━━━━━━━━━━━━━━━━━\u001b[0m\u001b[37m\u001b[0m \u001b[1m123s\u001b[0m 392ms/step - accuracy: 0.9755 - loss: 0.0704 - val_accuracy: 0.9862 - val_loss: 0.0367 - learning_rate: 2.0000e-04\n",
            "Epoch 20/30\n",
            "\u001b[1m313/313\u001b[0m \u001b[32m━━━━━━━━━━━━━━━━━━━━\u001b[0m\u001b[37m\u001b[0m \u001b[1m118s\u001b[0m 376ms/step - accuracy: 0.9782 - loss: 0.0635 - val_accuracy: 0.9900 - val_loss: 0.0258 - learning_rate: 2.0000e-04\n",
            "Epoch 21/30\n",
            "\u001b[1m313/313\u001b[0m \u001b[32m━━━━━━━━━━━━━━━━━━━━\u001b[0m\u001b[37m\u001b[0m \u001b[1m119s\u001b[0m 379ms/step - accuracy: 0.9773 - loss: 0.0600 - val_accuracy: 0.9875 - val_loss: 0.0353 - learning_rate: 2.0000e-04\n",
            "Epoch 22/30\n",
            "\u001b[1m313/313\u001b[0m \u001b[32m━━━━━━━━━━━━━━━━━━━━\u001b[0m\u001b[37m\u001b[0m \u001b[1m120s\u001b[0m 384ms/step - accuracy: 0.9795 - loss: 0.0621 - val_accuracy: 0.9900 - val_loss: 0.0313 - learning_rate: 2.0000e-04\n",
            "Epoch 23/30\n",
            "\u001b[1m313/313\u001b[0m \u001b[32m━━━━━━━━━━━━━━━━━━━━\u001b[0m\u001b[37m\u001b[0m \u001b[1m119s\u001b[0m 381ms/step - accuracy: 0.9800 - loss: 0.0611 - val_accuracy: 0.9925 - val_loss: 0.0231 - learning_rate: 2.0000e-04\n",
            "Epoch 24/30\n",
            "\u001b[1m313/313\u001b[0m \u001b[32m━━━━━━━━━━━━━━━━━━━━\u001b[0m\u001b[37m\u001b[0m \u001b[1m119s\u001b[0m 379ms/step - accuracy: 0.9831 - loss: 0.0531 - val_accuracy: 0.9850 - val_loss: 0.0419 - learning_rate: 2.0000e-04\n",
            "Epoch 25/30\n",
            "\u001b[1m313/313\u001b[0m \u001b[32m━━━━━━━━━━━━━━━━━━━━\u001b[0m\u001b[37m\u001b[0m \u001b[1m118s\u001b[0m 376ms/step - accuracy: 0.9817 - loss: 0.0518 - val_accuracy: 0.9937 - val_loss: 0.0209 - learning_rate: 2.0000e-04\n",
            "Epoch 26/30\n",
            "\u001b[1m313/313\u001b[0m \u001b[32m━━━━━━━━━━━━━━━━━━━━\u001b[0m\u001b[37m\u001b[0m \u001b[1m119s\u001b[0m 379ms/step - accuracy: 0.9821 - loss: 0.0530 - val_accuracy: 0.9925 - val_loss: 0.0209 - learning_rate: 2.0000e-04\n",
            "Epoch 27/30\n",
            "\u001b[1m313/313\u001b[0m \u001b[32m━━━━━━━━━━━━━━━━━━━━\u001b[0m\u001b[37m\u001b[0m \u001b[1m119s\u001b[0m 381ms/step - accuracy: 0.9862 - loss: 0.0461 - val_accuracy: 0.9912 - val_loss: 0.0230 - learning_rate: 2.0000e-04\n",
            "Epoch 28/30\n",
            "\u001b[1m313/313\u001b[0m \u001b[32m━━━━━━━━━━━━━━━━━━━━\u001b[0m\u001b[37m\u001b[0m \u001b[1m119s\u001b[0m 379ms/step - accuracy: 0.9847 - loss: 0.0434 - val_accuracy: 0.9912 - val_loss: 0.0220 - learning_rate: 2.0000e-04\n",
            "Epoch 29/30\n",
            "\u001b[1m313/313\u001b[0m \u001b[32m━━━━━━━━━━━━━━━━━━━━\u001b[0m\u001b[37m\u001b[0m \u001b[1m117s\u001b[0m 375ms/step - accuracy: 0.9832 - loss: 0.0408 - val_accuracy: 0.9937 - val_loss: 0.0150 - learning_rate: 1.0000e-04\n",
            "Epoch 30/30\n",
            "\u001b[1m313/313\u001b[0m \u001b[32m━━━━━━━━━━━━━━━━━━━━\u001b[0m\u001b[37m\u001b[0m \u001b[1m120s\u001b[0m 382ms/step - accuracy: 0.9882 - loss: 0.0305 - val_accuracy: 0.9937 - val_loss: 0.0126 - learning_rate: 1.0000e-04\n"
          ]
        }
      ],
      "source": [
        "# 3. Modeling\n",
        "num_classes = len(train_data.class_indices)\n",
        "model = models.Sequential([\n",
        "    Input(shape=(img_height, img_width, 3)),\n",
        "    layers.Conv2D(32, (3, 3), activation='relu'),\n",
        "    layers.MaxPooling2D(2, 2),\n",
        "    layers.Conv2D(64, (3, 3), activation='relu'),\n",
        "    layers.MaxPooling2D(2, 2),\n",
        "    layers.Conv2D(128, (3, 3), activation='relu'),\n",
        "    layers.MaxPooling2D(2, 2),\n",
        "    layers.Flatten(),\n",
        "    layers.Dense(256, activation='relu'),\n",
        "    layers.Dropout(0.5),\n",
        "    layers.Dense(num_classes, activation='softmax')\n",
        "])\n",
        "\n",
        "model.compile(optimizer='adam', loss='categorical_crossentropy', metrics=['accuracy'])\n",
        "model.summary()\n",
        "\n",
        "# 4. Implementasi Callback\n",
        "early_stopping = callbacks.EarlyStopping(monitor='val_loss', patience=5, restore_best_weights=True)\n",
        "reduce_lr = callbacks.ReduceLROnPlateau(monitor='val_loss', factor=0.2, patience=3, min_lr=0.0001)\n",
        "\n",
        "# 5. Training Model\n",
        "epochs = 30\n",
        "history = model.fit(\n",
        "    train_data,\n",
        "    validation_data=val_data,\n",
        "    epochs=epochs,\n",
        "    callbacks=[early_stopping, reduce_lr]\n",
        ")\n"
      ]
    },
    {
      "cell_type": "markdown",
      "metadata": {
        "id": "XctzCfzbYCBK"
      },
      "source": [
        "## Evaluasi dan Visualisasi"
      ]
    },
    {
      "cell_type": "code",
      "execution_count": null,
      "metadata": {
        "id": "EKk-ScZWYCBK",
        "colab": {
          "base_uri": "https://localhost:8080/",
          "height": 432
        },
        "outputId": "f99ec511-e278-4b1a-b695-7a0b0fd79ab0",
        "collapsed": true
      },
      "outputs": [
        {
          "output_type": "stream",
          "name": "stdout",
          "text": [
            "\u001b[1m313/313\u001b[0m \u001b[32m━━━━━━━━━━━━━━━━━━━━\u001b[0m\u001b[37m\u001b[0m \u001b[1m114s\u001b[0m 363ms/step - accuracy: 0.9919 - loss: 0.0244\n",
            "Training Accuracy: 99.12%\n",
            "Training Loss: 0.0273\n",
            "\u001b[1m25/25\u001b[0m \u001b[32m━━━━━━━━━━━━━━━━━━━━\u001b[0m\u001b[37m\u001b[0m \u001b[1m2s\u001b[0m 68ms/step - accuracy: 0.9931 - loss: 0.0154\n",
            "Validation Accuracy: 99.37%\n",
            "Validation Loss: 0.0126\n",
            "\u001b[1m31/31\u001b[0m \u001b[32m━━━━━━━━━━━━━━━━━━━━\u001b[0m\u001b[37m\u001b[0m \u001b[1m2s\u001b[0m 62ms/step - accuracy: 0.9879 - loss: 0.0248\n",
            "Testing Accuracy: 99.19%\n",
            "Testing Loss: 0.0212\n"
          ]
        },
        {
          "output_type": "display_data",
          "data": {
            "text/plain": [
              "<Figure size 1200x500 with 2 Axes>"
            ],
            "image/png": "[encoded data removed]"
          },
          "metadata": {}
        }
      ],
      "source": [
        "# 6. Evaluasi Model\n",
        "# Evaluasi pada training set\n",
        "train_loss, train_acc = model.evaluate(train_data)\n",
        "print(f\"Training Accuracy: {train_acc:.2%}\")\n",
        "print(f\"Training Loss: {train_loss:.4f}\")\n",
        "\n",
        "# Evaluasi pada validation set\n",
        "val_loss, val_acc = model.evaluate(val_data)\n",
        "print(f\"Validation Accuracy: {val_acc:.2%}\")\n",
        "print(f\"Validation Loss: {val_loss:.4f}\")\n",
        "\n",
        "# Evaluasi pada testing set\n",
        "test_loss, test_acc = model.evaluate(test_data)\n",
        "print(f\"Testing Accuracy: {test_acc:.2%}\")\n",
        "print(f\"Testing Loss: {test_loss:.4f}\")\n",
        "\n",
        "# 7. Visualisasi Akurasi dan Loss\n",
        "plt.figure(figsize=(12, 5))\n",
        "\n",
        "# Plot Akurasi\n",
        "plt.subplot(1, 2, 1)\n",
        "plt.plot(history.history['accuracy'], label='Train Accuracy')\n",
        "plt.plot(history.history['val_accuracy'], label='Validation Accuracy') # Changed 'validation_accuracy' to 'val_accuracy'\n",
        "plt.axhline(y=test_acc, color='r', linestyle='--', label='Test Accuracy')\n",
        "plt.axhline(y=val_acc, color='g', linestyle='--', label='Validation Accuracy')\n",
        "plt.legend()\n",
        "plt.title('Accuracy')\n",
        "plt.xlabel('Epoch')\n",
        "plt.ylabel('Accuracy')\n",
        "\n",
        "# Plot Loss\n",
        "plt.subplot(1, 2, 2)\n",
        "plt.plot(history.history['loss'], label='Train Loss')\n",
        "plt.plot(history.history['val_loss'], label='Validation Loss') # Changed 'validation_loss' to 'val_loss'\n",
        "plt.axhline(y=test_loss, color='r', linestyle='--', label='Test Loss')\n",
        "plt.axhline(y=val_loss, color='g', linestyle='--', label='Validation Loss')\n",
        "plt.legend()\n",
        "plt.title('Loss')\n",
        "plt.xlabel('Epoch')\n",
        "plt.ylabel('Loss')\n",
        "\n",
        "plt.tight_layout()\n",
        "plt.show()"
      ]
    },
    {
      "cell_type": "markdown",
      "metadata": {
        "id": "y_fIsUogYFSk"
      },
      "source": [
        "## Konversi Model"
      ]
    },
    {
      "cell_type": "code",
      "execution_count": null,
      "metadata": {
        "id": "hZvGBpYoYFSl",
        "colab": {
          "base_uri": "https://localhost:8080/"
        },
        "outputId": "82eb10b6-f2ce-4f9f-9d5a-182ab6261784",
        "collapsed": true
      },
      "outputs": [
        {
          "output_type": "stream",
          "name": "stdout",
          "text": [
            "Saved artifact at 'saved_model'. The following endpoints are available:\n",
            "\n",
            "* Endpoint 'serve'\n",
            "  args_0 (POSITIONAL_ONLY): TensorSpec(shape=(None, 224, 224, 3), dtype=tf.float32, name='keras_tensor')\n",
            "Output Type:\n",
            "  TensorSpec(shape=(None, 2), dtype=tf.float16, name=None)\n",
            "Captures:\n",
            "  139193102746064: TensorSpec(shape=(), dtype=tf.resource, name=None)\n",
            "  139193102746832: TensorSpec(shape=(), dtype=tf.resource, name=None)\n",
            "  139193102748944: TensorSpec(shape=(), dtype=tf.resource, name=None)\n",
            "  139193102747792: TensorSpec(shape=(), dtype=tf.resource, name=None)\n",
            "  139193102748368: TensorSpec(shape=(), dtype=tf.resource, name=None)\n",
            "  139193102749712: TensorSpec(shape=(), dtype=tf.resource, name=None)\n",
            "  139193102747600: TensorSpec(shape=(), dtype=tf.resource, name=None)\n",
            "  139193102750672: TensorSpec(shape=(), dtype=tf.resource, name=None)\n",
            "  139193102749328: TensorSpec(shape=(), dtype=tf.resource, name=None)\n",
            "  139193102752016: TensorSpec(shape=(), dtype=tf.resource, name=None)\n",
            "Konversi ke TFLite berhasil!\n",
            "2025-03-23 08:59:52.364459: E external/local_xla/xla/stream_executor/cuda/cuda_fft.cc:467] Unable to register cuFFT factory: Attempting to register factory for plugin cuFFT when one has already been registered\n",
            "WARNING: All log messages before absl::InitializeLog() is called are written to STDERR\n",
            "E0000 00:00:1742720392.384802   29956 cuda_dnn.cc:8579] Unable to register cuDNN factory: Attempting to register factory for plugin cuDNN when one has already been registered\n",
            "E0000 00:00:1742720392.390889   29956 cuda_blas.cc:1407] Unable to register cuBLAS factory: Attempting to register factory for plugin cuBLAS when one has already been registered\n",
            "W0000 00:00:1742720392.406483   29956 computation_placer.cc:177] computation placer already registered. Please check linkage and avoid linking the same target more than once.\n",
            "W0000 00:00:1742720392.406508   29956 computation_placer.cc:177] computation placer already registered. Please check linkage and avoid linking the same target more than once.\n",
            "W0000 00:00:1742720392.406512   29956 computation_placer.cc:177] computation placer already registered. Please check linkage and avoid linking the same target more than once.\n",
            "W0000 00:00:1742720392.406517   29956 computation_placer.cc:177] computation placer already registered. Please check linkage and avoid linking the same target more than once.\n",
            "/usr/local/lib/python3.11/dist-packages/jaxlib/plugin_support.py:71: RuntimeWarning: JAX plugin jax_cuda12_plugin version 0.5.1 is installed, but it is not compatible with the installed jaxlib version 0.5.3, so it will not be used.\n",
            "  warnings.warn(\n",
            "\u001b[32m🌲 Try \u001b[0m\u001b[34mhttps://ydf.readthedocs.io\u001b[0m\u001b[32m, the successor of TensorFlow Decision Forests with more features and faster training!\u001b[0m\n",
            "2025-03-23 08:59:57.479796: W tensorflow/core/common_runtime/gpu/gpu_bfc_allocator.cc:47] Overriding orig_value setting because the TF_FORCE_GPU_ALLOW_GROWTH environment variable is set. Original config value was 0.\n",
            "I0000 00:00:1742720397.479950   29956 gpu_device.cc:2019] Created device /job:localhost/replica:0/task:0/device:GPU:0 with 11768 MB memory:  -> device: 0, name: Tesla T4, pci bus id: 0000:00:04.0, compute capability: 7.5\n",
            "2025-03-23 08:59:57.556154: W external/local_xla/xla/tsl/framework/cpu_allocator_impl.cc:83] Allocation of 88604672 exceeds 10% of free system memory.\n",
            "2025-03-23 08:59:57.556291: W external/local_xla/xla/tsl/framework/cpu_allocator_impl.cc:83] Allocation of 88604672 exceeds 10% of free system memory.\n",
            "I0000 00:00:1742720397.888445   29956 devices.cc:67] Number of eligible GPUs (core count >= 8, compute capability >= 0.0): 1\n",
            "WARNING: All log messages before absl::InitializeLog() is called are written to STDERR\n",
            "I0000 00:00:1742720397.888606   29956 single_machine.cc:374] Starting new session\n",
            "I0000 00:00:1742720397.889452   29956 gpu_device.cc:2019] Created device /job:localhost/replica:0/task:0/device:GPU:0 with 11768 MB memory:  -> device: 0, name: Tesla T4, pci bus id: 0000:00:04.0, compute capability: 7.5\n",
            "2025-03-23 08:59:57.904622: W external/local_xla/xla/tsl/framework/cpu_allocator_impl.cc:83] Allocation of 88604672 exceeds 10% of free system memory.\n",
            "2025-03-23 09:00:03.039534: W external/local_xla/xla/tsl/framework/cpu_allocator_impl.cc:83] Allocation of 88604672 exceeds 10% of free system memory.\n",
            "2025-03-23 09:00:03.039601: W external/local_xla/xla/tsl/framework/cpu_allocator_impl.cc:83] Allocation of 88604672 exceeds 10% of free system memory.\n",
            "weight StatefulPartitionedCall/sequential_1/conv2d_1/convolution/Cast with shape (3, 3, 3, 32) and dtype float16 was auto converted to the type float32\n",
            "weight StatefulPartitionedCall/sequential_1/conv2d_1/Squeeze with shape (32,) and dtype float16 was auto converted to the type float32\n",
            "weight StatefulPartitionedCall/sequential_1/conv2d_1_2/convolution/Cast with shape (3, 3, 32, 64) and dtype float16 was auto converted to the type float32\n",
            "weight StatefulPartitionedCall/sequential_1/conv2d_1_2/Squeeze with shape (64,) and dtype float16 was auto converted to the type float32\n",
            "weight StatefulPartitionedCall/sequential_1/conv2d_2_1/convolution/Cast with shape (3, 3, 64, 128) and dtype float16 was auto converted to the type float32\n",
            "weight StatefulPartitionedCall/sequential_1/conv2d_2_1/Squeeze with shape (128,) and dtype float16 was auto converted to the type float32\n",
            "weight StatefulPartitionedCall/sequential_1/dense_1/Cast/Cast with shape (86528, 256) and dtype float16 was auto converted to the type float32\n",
            "weight StatefulPartitionedCall/sequential_1/dense_1/BiasAdd/Cast with shape (256,) and dtype float16 was auto converted to the type float32\n",
            "weight StatefulPartitionedCall/sequential_1/dense_1_2/Cast/Cast with shape (256, 2) and dtype float16 was auto converted to the type float32\n",
            "weight StatefulPartitionedCall/sequential_1/dense_1_2/BiasAdd/Cast with shape (2,) and dtype float16 was auto converted to the type float32\n",
            "Konversi ke TensorFlow.js berhasil!\n",
            "Proses konversi selesai!\n"
          ]
        }
      ],
      "source": [
        "# Pastikan direktori penyimpanan ada\n",
        "os.makedirs(\"tfjs_model\", exist_ok=True)\n",
        "os.makedirs(\"tflite\", exist_ok=True)\n",
        "os.makedirs(\"saved_model\", exist_ok=True)\n",
        "\n",
        "# Simpan model dalam format SavedModel\n",
        "model.export(\"saved_model\")\n",
        "\n",
        "# Konversi ke TF-Lite\n",
        "converter = tf.lite.TFLiteConverter.from_saved_model(\"saved_model\")\n",
        "converter.optimizations = [tf.lite.Optimize.DEFAULT]\n",
        "converter.target_spec.supported_ops = [tf.lite.OpsSet.TFLITE_BUILTINS, tf.lite.OpsSet.SELECT_TF_OPS]\n",
        "\n",
        "try:\n",
        "    tflite_model = converter.convert()\n",
        "    with open(\"tflite/model.tflite\", \"wb\") as f:\n",
        "        f.write(tflite_model)\n",
        "    print(\"Konversi ke TFLite berhasil!\")\n",
        "except Exception as e:\n",
        "    print(f\"Gagal mengonversi ke TFLite: {e}\")\n",
        "\n",
        "# Simpan label untuk model TF-Lite\n",
        "class_labels = list(train_data.class_indices.keys())\n",
        "with open(\"tflite/label.txt\", \"w\") as f:\n",
        "    for label in class_labels:\n",
        "        f.write(label + \"\\n\")\n",
        "\n",
        "# Konversi ke TensorFlow.js\n",
        "!tensorflowjs_converter --input_format=tf_saved_model --output_format=tfjs_graph_model saved_model tfjs_model\n",
        "\n",
        "import subprocess\n",
        "\n",
        "try:\n",
        "    subprocess.run([\n",
        "        \"tensorflowjs_converter\",\n",
        "        \"--input_format=tf_saved_model\",\n",
        "        \"--output_format=tfjs_graph_model\",\n",
        "        \"saved_model\",\n",
        "        \"tfjs_model\"\n",
        "    ], check=True)\n",
        "    print(\"Konversi ke TensorFlow.js berhasil!\")\n",
        "except subprocess.CalledProcessError as e:\n",
        "    print(f\"Gagal mengonversi ke TensorFlow.js: {e}\")\n",
        "\n",
        "print(\"Proses konversi selesai!\")"
      ]
    },
    {
      "cell_type": "markdown",
      "source": [
        "## Inference (Optional)"
      ],
      "metadata": {
        "id": "8DbfEwvvm5U4"
      }
    },
    {
      "cell_type": "code",
      "source": [
        "# 9. Inference (Menggunakan TF-Lite)\n",
        "# Label kelas\n",
        "class_labels = [\"With Mask\", \"Without Mask\"]\n",
        "\n",
        "def predict_tflite(image_path, model_path='tflite/model.tflite'):\n",
        "    # Load model TFLite\n",
        "    interpreter = tf.lite.Interpreter(model_path=model_path)\n",
        "    interpreter.allocate_tensors()\n",
        "\n",
        "    # Ambil detail input & output\n",
        "    input_details = interpreter.get_input_details()\n",
        "    output_details = interpreter.get_output_details()\n",
        "\n",
        "    # Ambil ukuran input model\n",
        "    img_height, img_width = input_details[0]['shape'][1:3]\n",
        "\n",
        "    # Load dan preprocess gambar\n",
        "    img = Image.open(image_path).resize((img_height, img_width))\n",
        "    img_array = np.array(img, dtype=np.float32) / 255.0\n",
        "    img_array = np.expand_dims(img_array, axis=0)  # Tambahkan dimensi batch\n",
        "\n",
        "    # Set input model\n",
        "    interpreter.set_tensor(input_details[0]['index'], img_array)\n",
        "    interpreter.invoke()\n",
        "\n",
        "    # Ambil hasil prediksi\n",
        "    predictions = interpreter.get_tensor(output_details[0]['index'])[0]\n",
        "\n",
        "    # Dapatkan kelas dengan probabilitas tertinggi\n",
        "    predicted_class = np.argmax(predictions)\n",
        "    confidence = predictions[predicted_class] * 100\n",
        "\n",
        "    # Tampilkan hasil prediksi\n",
        "    print(f\"\\n=== HASIL PREDIKSI ===\")\n",
        "    for i, prob in enumerate(predictions):\n",
        "        print(f\"{class_labels[i]}: {prob:.4f}\")\n",
        "\n",
        "    print(f\"\\nKelas Terpilih: {class_labels[predicted_class]} ({confidence:.2f}%)\")\n",
        "\n",
        "    return class_labels[predicted_class], confidence\n",
        "\n",
        "# Path gambar yang akan diuji\n",
        "image_path = \"/content/sample.jpeg\"\n",
        "\n",
        "# Jalankan prediksi\n",
        "predicted_label, confidence = predict_tflite(image_path)\n"
      ],
      "metadata": {
        "id": "ue5esMSSm8GQ",
        "colab": {
          "base_uri": "https://localhost:8080/"
        },
        "outputId": "fa3838ca-48dd-4fbd-f15e-b7e4b1694fd7",
        "collapsed": true
      },
      "execution_count": null,
      "outputs": [
        {
          "output_type": "stream",
          "name": "stdout",
          "text": [
            "\n",
            "=== HASIL PREDIKSI ===\n",
            "With Mask: 1.0000\n",
            "Without Mask: 0.0000\n",
            "\n",
            "Kelas Terpilih: With Mask (100.00%)\n"
          ]
        }
      ]
    }
  ]
}